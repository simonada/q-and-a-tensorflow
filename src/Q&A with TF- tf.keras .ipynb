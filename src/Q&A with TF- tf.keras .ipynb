{
 "cells": [
  {
   "cell_type": "code",
   "execution_count": 58,
   "metadata": {
    "collapsed": true
   },
   "outputs": [],
   "source": [
    "import tensorflow as tf\n",
    "#import tensorflow.contrib.eager as tfe\n",
    "import os\n",
    "import matplotlib.pyplot as plt\n",
    "import re\n",
    "import numpy as np\n",
    "from string import punctuation\n",
    "from collections import defaultdict\n",
    "from functools import reduce\n",
    "from keras.preprocessing.sequence import pad_sequences\n",
    "from itertools import chain\n",
    "from InputPreparator import EmbeddingsPreparator\n",
    "from InputPreparator import StoryParser\n",
    "import time\n",
    "\n",
    "#to avoid a warning from TF 1.7 version see https://github.com/tensorflow/tensorflow/issues/18111\n",
    "import warnings\n",
    "warnings.filterwarnings('ignore')\n"
   ]
  },
  {
   "cell_type": "markdown",
   "metadata": {},
   "source": [
    "# Input preparation"
   ]
  },
  {
   "cell_type": "code",
   "execution_count": 269,
   "metadata": {
    "collapsed": true
   },
   "outputs": [],
   "source": [
    "def get_task_files(task_nr):\n",
    "    if task_nr==5:\n",
    "        return 'qa5_three-arg-relations_train.txt', \"qa5_three-arg-relations_test.txt\"\n",
    "    if task_nr==6:\n",
    "        return 'qa6_yes-no-questions_train.txt', 'qa6_yes-no-questions_test.txt'\n",
    "    if task_nr==10:\n",
    "        return 'qa10_indefinite-knowledge_train.txt', 'qa10_indefinite-knowledge_test.txt'"
   ]
  },
  {
   "cell_type": "code",
   "execution_count": 270,
   "metadata": {
    "collapsed": true
   },
   "outputs": [],
   "source": [
    "train_set_file = get_task_files(6)[0]\n",
    "test_set_file = get_task_files(6)[1]\n",
    "\n",
    "train_set_post_file = \"data/tasks_1-20_v1-2/en/\"+train_set_file\n",
    "test_set_post_file = \"data/tasks_1-20_v1-2/en/\"+test_set_file"
   ]
  },
  {
   "cell_type": "code",
   "execution_count": 271,
   "metadata": {
    "collapsed": true
   },
   "outputs": [],
   "source": [
    "embedder=EmbeddingsPreparator()\n",
    "story_parser=StoryParser()"
   ]
  },
  {
   "cell_type": "code",
   "execution_count": 272,
   "metadata": {
    "collapsed": true
   },
   "outputs": [],
   "source": [
    "vocab_tokens = embedder.get_unique_tokens([train_set_post_file, test_set_post_file])"
   ]
  },
  {
   "cell_type": "code",
   "execution_count": 273,
   "metadata": {
    "collapsed": true
   },
   "outputs": [],
   "source": [
    "word_to_index, index_to_embedding = embedder.load_embedding_from_disks(\"data/glove.6B.50d.txt\",vocab_tokens, with_indexes=True)"
   ]
  },
  {
   "cell_type": "code",
   "execution_count": 274,
   "metadata": {
    "collapsed": true
   },
   "outputs": [],
   "source": [
    "train_stories=story_parser.get_stories(train_set_post_file, True)\n",
    "test_stories=story_parser.get_stories(test_set_post_file, True)"
   ]
  },
  {
   "cell_type": "code",
   "execution_count": 275,
   "metadata": {
    "collapsed": true
   },
   "outputs": [],
   "source": [
    "contexts_train, questions_train, answers_train = story_parser.vectorize_stories(train_stories, word_to_index)\n",
    "contexts_test, questions_test, answers_test = story_parser.vectorize_stories(test_stories, word_to_index)"
   ]
  },
  {
   "cell_type": "code",
   "execution_count": 276,
   "metadata": {},
   "outputs": [
    {
     "name": "stdout",
     "output_type": "stream",
     "text": [
      "contexts.shape = (1000,)\n",
      "questions.shape = (1000, 6)\n",
      "answers.shape = (1000, 38)\n"
     ]
    }
   ],
   "source": [
    "print('contexts.shape = {}'.format(contexts_train.shape))\n",
    "print('questions.shape = {}'.format(questions_train.shape))\n",
    "print('answers.shape = {}'.format(answers_train.shape))"
   ]
  },
  {
   "cell_type": "markdown",
   "metadata": {},
   "source": [
    "## Embedding Layer"
   ]
  },
  {
   "cell_type": "code",
   "execution_count": 277,
   "metadata": {},
   "outputs": [],
   "source": [
    "embedding_matrix = np.zeros((len(word_to_index) + 1, embed_dimensions))\n",
    "for word, i in word_to_index.items():\n",
    "    embedding_vector = index_to_embedding[i]\n",
    "    if embedding_vector is not None:\n",
    "        # words not found in embedding index will be all-zeros.\n",
    "        embedding_matrix[i] = embedding_vector"
   ]
  },
  {
   "cell_type": "code",
   "execution_count": 278,
   "metadata": {
    "collapsed": true
   },
   "outputs": [],
   "source": [
    "final_train_data = story_parser.get_final_dataset(contexts_train, questions_train, answers_train)\n",
    "final_test_data = story_parser.get_final_dataset(contexts_test, questions_test, answers_test)"
   ]
  },
  {
   "cell_type": "code",
   "execution_count": 279,
   "metadata": {
    "collapsed": true
   },
   "outputs": [],
   "source": [
    "def prep_data(data, all_data= False, train= False):\n",
    "    contextsvs, questionsvs, answers=zip(*data)\n",
    "    \n",
    "    #Pad to longest sequence in the batch \n",
    "    contexts = list(contextsvs)\n",
    "    max_context_length = max([len(x) for x in contexts])\n",
    "    questions = list(questionsvs)\n",
    "    max_query_length = max(len(x) for x in questionsvs)\n",
    "\n",
    "    final_contexts=pad_sequences(contextsvs, maxlen=max_context_length) \n",
    "    final_queries=pad_sequences(questionsvs, maxlen=max_query_length)\n",
    "    \n",
    "    return final_contexts, final_queries"
   ]
  },
  {
   "cell_type": "markdown",
   "metadata": {},
   "source": [
    "# Model"
   ]
  },
  {
   "cell_type": "code",
   "execution_count": 280,
   "metadata": {
    "collapsed": true
   },
   "outputs": [],
   "source": [
    "final_contexts, final_queries= prep_data(final_train_data)\n",
    "\n",
    "vocab_size= len(index_to_embedding)\n",
    "embed_dimensions= 50\n",
    "num_units_gru= 50\n",
    "keep_prob= 0.5\n",
    "#q_shape= final_queries.shape[1]\n",
    "#c_shape= final_contexts.shape[1]"
   ]
  },
  {
   "cell_type": "code",
   "execution_count": 281,
   "metadata": {},
   "outputs": [
    {
     "name": "stdout",
     "output_type": "stream",
     "text": [
      "__________________________________________________________________________________________________\n",
      "Layer (type)                    Output Shape         Param #     Connected to                     \n",
      "==================================================================================================\n",
      "input_36 (InputLayer)           (None, None)         0                                            \n",
      "__________________________________________________________________________________________________\n",
      "input_35 (InputLayer)           (None, None)         0                                            \n",
      "__________________________________________________________________________________________________\n",
      "embedding_17 (Embedding)        (None, None, 50)     1900        input_35[0][0]                   \n",
      "                                                                 input_36[0][0]                   \n",
      "__________________________________________________________________________________________________\n",
      "rnn_33 (RNN)                    (None, 50)           15150       embedding_17[1][0]               \n",
      "__________________________________________________________________________________________________\n",
      "rnn_34 (RNN)                    (None, 50)           15150       embedding_17[0][0]               \n",
      "__________________________________________________________________________________________________\n",
      "dropout_17 (Dropout)            (None, 50)           0           rnn_33[0][0]                     \n",
      "                                                                 rnn_34[0][0]                     \n",
      "__________________________________________________________________________________________________\n",
      "concatenate_17 (Concatenate)    (None, 100)          0           dropout_17[0][0]                 \n",
      "                                                                 dropout_17[1][0]                 \n",
      "__________________________________________________________________________________________________\n",
      "dense_17 (Dense)                (None, 38)           3838        concatenate_17[0][0]             \n",
      "==================================================================================================\n",
      "Total params: 20,888\n",
      "Trainable params: 18,988\n",
      "Non-trainable params: 1,900\n",
      "__________________________________________________________________________________________________\n"
     ]
    }
   ],
   "source": [
    "q_in = tf.keras.Input(shape=(None,))\n",
    "c_in = tf.keras.Input(shape=(None,))\n",
    "\n",
    "#embed\n",
    "embed = tf.keras.layers.Embedding(len(word_to_index) + 1,\n",
    "                            embed_dimensions,\n",
    "                            weights=[embedding_matrix],\n",
    "                            trainable=False)\n",
    "q = embed(q_in)\n",
    "c = embed(c_in)\n",
    "\n",
    "#encode\n",
    "grucell= tf.keras.layers.GRUCell(num_units_gru)\n",
    "c = tf.keras.layers.RNN(grucell)(c)\n",
    "q = tf.keras.layers.RNN(grucell)(q)\n",
    "\n",
    "#add dropout\n",
    "dropout= tf.keras.layers.Dropout(keep_prob)\n",
    "encoded_sentence= dropout(c)\n",
    "encoded_question= dropout(q)\n",
    "\n",
    "#merge\n",
    "merged= tf.keras.layers.concatenate([encoded_sentence, encoded_question])\n",
    "\n",
    "#predict\n",
    "pred=tf.keras.layers.Dense(answers_train.shape[1], activation=tf.nn.softmax)(merged)\n",
    "\n",
    "model = tf.keras.Model(inputs=[q_in, c_in], outputs=pred)\n",
    "\n",
    "model.compile(optimizer='adam',\n",
    "              loss='categorical_crossentropy',\n",
    "              metrics=['accuracy'])\n",
    "model.summary()"
   ]
  },
  {
   "cell_type": "markdown",
   "metadata": {},
   "source": [
    "## Train"
   ]
  },
  {
   "cell_type": "code",
   "execution_count": 282,
   "metadata": {},
   "outputs": [
    {
     "name": "stdout",
     "output_type": "stream",
     "text": [
      "Training...\n",
      "Epoch 1/200\n",
      "1000/1000 [==============================] - 7s 7ms/step - loss: 3.3455 - acc: 0.1330\n",
      "Epoch 2/200\n",
      "1000/1000 [==============================] - 0s 319us/step - loss: 1.9578 - acc: 0.5140\n",
      "Epoch 3/200\n",
      "1000/1000 [==============================] - 0s 319us/step - loss: 1.1881 - acc: 0.5220\n",
      "Epoch 4/200\n",
      "1000/1000 [==============================] - 0s 303us/step - loss: 0.9526 - acc: 0.4740\n",
      "Epoch 5/200\n",
      "1000/1000 [==============================] - 0s 291us/step - loss: 0.9131 - acc: 0.4680\n",
      "Epoch 6/200\n",
      "1000/1000 [==============================] - 0s 298us/step - loss: 0.8874 - acc: 0.4720\n",
      "Epoch 7/200\n",
      "1000/1000 [==============================] - 0s 301us/step - loss: 0.8212 - acc: 0.4970\n",
      "Epoch 8/200\n",
      "1000/1000 [==============================] - 0s 303us/step - loss: 0.8318 - acc: 0.5000\n",
      "Epoch 9/200\n",
      "1000/1000 [==============================] - 0s 295us/step - loss: 0.7924 - acc: 0.5090\n",
      "Epoch 10/200\n",
      "1000/1000 [==============================] - 0s 308us/step - loss: 0.7869 - acc: 0.5130\n",
      "Epoch 11/200\n",
      "1000/1000 [==============================] - 0s 311us/step - loss: 0.7788 - acc: 0.5220\n",
      "Epoch 12/200\n",
      "1000/1000 [==============================] - 0s 303us/step - loss: 0.7765 - acc: 0.5200\n",
      "Epoch 13/200\n",
      "1000/1000 [==============================] - 0s 298us/step - loss: 0.7576 - acc: 0.5310\n",
      "Epoch 14/200\n",
      "1000/1000 [==============================] - 0s 305us/step - loss: 0.7686 - acc: 0.5160\n",
      "Epoch 15/200\n",
      "1000/1000 [==============================] - 0s 311us/step - loss: 0.7533 - acc: 0.5210\n",
      "Epoch 16/200\n",
      "1000/1000 [==============================] - 0s 304us/step - loss: 0.7714 - acc: 0.5010\n",
      "Epoch 17/200\n",
      "1000/1000 [==============================] - 0s 300us/step - loss: 0.7556 - acc: 0.5020\n",
      "Epoch 18/200\n",
      "1000/1000 [==============================] - 0s 288us/step - loss: 0.7521 - acc: 0.5110\n",
      "Epoch 19/200\n",
      "1000/1000 [==============================] - 0s 298us/step - loss: 0.7456 - acc: 0.5020\n",
      "Epoch 20/200\n",
      "1000/1000 [==============================] - 0s 314us/step - loss: 0.7259 - acc: 0.5260\n",
      "Epoch 21/200\n",
      "1000/1000 [==============================] - 0s 319us/step - loss: 0.7337 - acc: 0.5270\n",
      "Epoch 22/200\n",
      "1000/1000 [==============================] - 0s 291us/step - loss: 0.7314 - acc: 0.5230\n",
      "Epoch 23/200\n",
      "1000/1000 [==============================] - 0s 299us/step - loss: 0.7332 - acc: 0.5110\n",
      "Epoch 24/200\n",
      "1000/1000 [==============================] - 0s 298us/step - loss: 0.7189 - acc: 0.5350\n",
      "Epoch 25/200\n",
      "1000/1000 [==============================] - 0s 304us/step - loss: 0.7231 - acc: 0.5150\n",
      "Epoch 26/200\n",
      "1000/1000 [==============================] - 0s 303us/step - loss: 0.7209 - acc: 0.5240\n",
      "Epoch 27/200\n",
      "1000/1000 [==============================] - 0s 302us/step - loss: 0.7218 - acc: 0.5210\n",
      "Epoch 28/200\n",
      "1000/1000 [==============================] - 0s 303us/step - loss: 0.7161 - acc: 0.5230\n",
      "Epoch 29/200\n",
      "1000/1000 [==============================] - 0s 313us/step - loss: 0.7118 - acc: 0.5300\n",
      "Epoch 30/200\n",
      "1000/1000 [==============================] - 0s 296us/step - loss: 0.7040 - acc: 0.5310\n",
      "Epoch 31/200\n",
      "1000/1000 [==============================] - 0s 300us/step - loss: 0.7116 - acc: 0.5260\n",
      "Epoch 32/200\n",
      "1000/1000 [==============================] - 0s 304us/step - loss: 0.7087 - acc: 0.5250\n",
      "Epoch 33/200\n",
      "1000/1000 [==============================] - 0s 305us/step - loss: 0.7089 - acc: 0.5120\n",
      "Epoch 34/200\n",
      "1000/1000 [==============================] - 0s 290us/step - loss: 0.6923 - acc: 0.5620\n",
      "Epoch 35/200\n",
      "1000/1000 [==============================] - 0s 300us/step - loss: 0.7176 - acc: 0.5180\n",
      "Epoch 36/200\n",
      "1000/1000 [==============================] - 0s 301us/step - loss: 0.7056 - acc: 0.5290\n",
      "Epoch 37/200\n",
      "1000/1000 [==============================] - 0s 302us/step - loss: 0.7037 - acc: 0.5370\n",
      "Epoch 38/200\n",
      "1000/1000 [==============================] - 0s 294us/step - loss: 0.7072 - acc: 0.5350\n",
      "Epoch 39/200\n",
      "1000/1000 [==============================] - 0s 301us/step - loss: 0.7018 - acc: 0.5200\n",
      "Epoch 40/200\n",
      "1000/1000 [==============================] - 0s 307us/step - loss: 0.7065 - acc: 0.5230\n",
      "Epoch 41/200\n",
      "1000/1000 [==============================] - 0s 299us/step - loss: 0.6972 - acc: 0.5250\n",
      "Epoch 42/200\n",
      "1000/1000 [==============================] - 0s 284us/step - loss: 0.6969 - acc: 0.5440\n",
      "Epoch 43/200\n",
      "1000/1000 [==============================] - 0s 303us/step - loss: 0.7049 - acc: 0.5330\n",
      "Epoch 44/200\n",
      "1000/1000 [==============================] - 0s 309us/step - loss: 0.7014 - acc: 0.5160\n",
      "Epoch 45/200\n",
      "1000/1000 [==============================] - 0s 303us/step - loss: 0.7079 - acc: 0.5160\n",
      "Epoch 46/200\n",
      "1000/1000 [==============================] - 0s 297us/step - loss: 0.6955 - acc: 0.5280\n",
      "Epoch 47/200\n",
      "1000/1000 [==============================] - 0s 299us/step - loss: 0.6881 - acc: 0.5540\n",
      "Epoch 48/200\n",
      "1000/1000 [==============================] - 0s 302us/step - loss: 0.7018 - acc: 0.5240\n",
      "Epoch 49/200\n",
      "1000/1000 [==============================] - 0s 297us/step - loss: 0.6939 - acc: 0.5300\n",
      "Epoch 50/200\n",
      "1000/1000 [==============================] - 0s 309us/step - loss: 0.6966 - acc: 0.5210\n",
      "Epoch 51/200\n",
      "1000/1000 [==============================] - 0s 290us/step - loss: 0.6970 - acc: 0.5290\n",
      "Epoch 52/200\n",
      "1000/1000 [==============================] - 0s 298us/step - loss: 0.6987 - acc: 0.5330\n",
      "Epoch 53/200\n",
      "1000/1000 [==============================] - 0s 299us/step - loss: 0.6978 - acc: 0.5300\n",
      "Epoch 54/200\n",
      "1000/1000 [==============================] - 0s 304us/step - loss: 0.7003 - acc: 0.5400\n",
      "Epoch 55/200\n",
      "1000/1000 [==============================] - 0s 301us/step - loss: 0.6906 - acc: 0.5350\n",
      "Epoch 56/200\n",
      "1000/1000 [==============================] - 0s 298us/step - loss: 0.6972 - acc: 0.5130\n",
      "Epoch 57/200\n",
      "1000/1000 [==============================] - 0s 295us/step - loss: 0.6976 - acc: 0.5360\n",
      "Epoch 58/200\n",
      "1000/1000 [==============================] - 0s 293us/step - loss: 0.6948 - acc: 0.5480\n",
      "Epoch 59/200\n",
      "1000/1000 [==============================] - 0s 293us/step - loss: 0.6923 - acc: 0.5450\n",
      "Epoch 60/200\n",
      "1000/1000 [==============================] - 0s 298us/step - loss: 0.6932 - acc: 0.5410\n",
      "Epoch 61/200\n",
      "1000/1000 [==============================] - 0s 290us/step - loss: 0.6856 - acc: 0.5500\n",
      "Epoch 62/200\n",
      "1000/1000 [==============================] - 0s 291us/step - loss: 0.6942 - acc: 0.5440\n",
      "Epoch 63/200\n",
      "1000/1000 [==============================] - 0s 290us/step - loss: 0.6986 - acc: 0.5260\n",
      "Epoch 64/200\n",
      "1000/1000 [==============================] - 0s 283us/step - loss: 0.6956 - acc: 0.5230\n",
      "Epoch 65/200\n",
      "1000/1000 [==============================] - 0s 284us/step - loss: 0.6853 - acc: 0.5350\n",
      "Epoch 66/200\n",
      "1000/1000 [==============================] - 0s 298us/step - loss: 0.6907 - acc: 0.5350\n",
      "Epoch 67/200\n",
      "1000/1000 [==============================] - 0s 286us/step - loss: 0.6880 - acc: 0.5340\n",
      "Epoch 68/200\n",
      "1000/1000 [==============================] - 0s 287us/step - loss: 0.6942 - acc: 0.5260\n",
      "Epoch 69/200\n",
      "1000/1000 [==============================] - 0s 295us/step - loss: 0.6898 - acc: 0.5420\n",
      "Epoch 70/200\n",
      "1000/1000 [==============================] - 0s 276us/step - loss: 0.6877 - acc: 0.5400\n",
      "Epoch 71/200\n",
      "1000/1000 [==============================] - 0s 294us/step - loss: 0.6943 - acc: 0.5350\n",
      "Epoch 72/200\n",
      "1000/1000 [==============================] - 0s 288us/step - loss: 0.6857 - acc: 0.5570\n",
      "Epoch 73/200\n",
      "1000/1000 [==============================] - 0s 289us/step - loss: 0.6883 - acc: 0.5350\n",
      "Epoch 74/200\n",
      "1000/1000 [==============================] - 0s 285us/step - loss: 0.6883 - acc: 0.5430\n",
      "Epoch 75/200\n",
      "1000/1000 [==============================] - 0s 285us/step - loss: 0.6888 - acc: 0.5390\n",
      "Epoch 76/200\n",
      "1000/1000 [==============================] - 0s 291us/step - loss: 0.6865 - acc: 0.5420\n",
      "Epoch 77/200\n",
      "1000/1000 [==============================] - 0s 295us/step - loss: 0.6901 - acc: 0.5380\n",
      "Epoch 78/200\n",
      "1000/1000 [==============================] - 0s 295us/step - loss: 0.6890 - acc: 0.5730\n",
      "Epoch 79/200\n",
      "1000/1000 [==============================] - 0s 299us/step - loss: 0.6854 - acc: 0.5480\n",
      "Epoch 80/200\n",
      "1000/1000 [==============================] - 0s 287us/step - loss: 0.6822 - acc: 0.5570\n",
      "Epoch 81/200\n",
      "1000/1000 [==============================] - 0s 288us/step - loss: 0.6852 - acc: 0.5440\n",
      "Epoch 82/200\n"
     ]
    },
    {
     "name": "stdout",
     "output_type": "stream",
     "text": [
      "1000/1000 [==============================] - 0s 279us/step - loss: 0.6816 - acc: 0.5680\n",
      "Epoch 83/200\n",
      "1000/1000 [==============================] - 0s 280us/step - loss: 0.6893 - acc: 0.5440\n",
      "Epoch 84/200\n",
      "1000/1000 [==============================] - 0s 282us/step - loss: 0.6804 - acc: 0.5630\n",
      "Epoch 85/200\n",
      "1000/1000 [==============================] - 0s 282us/step - loss: 0.6802 - acc: 0.5530\n",
      "Epoch 86/200\n",
      "1000/1000 [==============================] - 0s 281us/step - loss: 0.6861 - acc: 0.5700\n",
      "Epoch 87/200\n",
      "1000/1000 [==============================] - 0s 283us/step - loss: 0.6812 - acc: 0.5640\n",
      "Epoch 88/200\n",
      "1000/1000 [==============================] - 0s 280us/step - loss: 0.6891 - acc: 0.5580\n",
      "Epoch 89/200\n",
      "1000/1000 [==============================] - 0s 282us/step - loss: 0.6782 - acc: 0.5610\n",
      "Epoch 90/200\n",
      "1000/1000 [==============================] - 0s 285us/step - loss: 0.6879 - acc: 0.5630\n",
      "Epoch 91/200\n",
      "1000/1000 [==============================] - 0s 289us/step - loss: 0.6822 - acc: 0.5550\n",
      "Epoch 92/200\n",
      "1000/1000 [==============================] - 0s 286us/step - loss: 0.6899 - acc: 0.5430\n",
      "Epoch 93/200\n",
      "1000/1000 [==============================] - 0s 287us/step - loss: 0.6830 - acc: 0.5750\n",
      "Epoch 94/200\n",
      "1000/1000 [==============================] - 0s 282us/step - loss: 0.6799 - acc: 0.5420\n",
      "Epoch 95/200\n",
      "1000/1000 [==============================] - 0s 289us/step - loss: 0.6758 - acc: 0.5660\n",
      "Epoch 96/200\n",
      "1000/1000 [==============================] - 0s 286us/step - loss: 0.6765 - acc: 0.5730\n",
      "Epoch 97/200\n",
      "1000/1000 [==============================] - 0s 291us/step - loss: 0.6778 - acc: 0.5700\n",
      "Epoch 98/200\n",
      "1000/1000 [==============================] - 0s 284us/step - loss: 0.6842 - acc: 0.5520\n",
      "Epoch 99/200\n",
      "1000/1000 [==============================] - 0s 287us/step - loss: 0.6806 - acc: 0.5740\n",
      "Epoch 100/200\n",
      "1000/1000 [==============================] - 0s 294us/step - loss: 0.6828 - acc: 0.5420\n",
      "Epoch 101/200\n",
      "1000/1000 [==============================] - 0s 285us/step - loss: 0.6797 - acc: 0.5570\n",
      "Epoch 102/200\n",
      "1000/1000 [==============================] - 0s 193us/step - loss: 0.6834 - acc: 0.5560\n",
      "Epoch 103/200\n",
      "1000/1000 [==============================] - 0s 158us/step - loss: 0.6773 - acc: 0.5780\n",
      "Epoch 104/200\n",
      "1000/1000 [==============================] - 0s 144us/step - loss: 0.6798 - acc: 0.5540\n",
      "Epoch 105/200\n",
      "1000/1000 [==============================] - 0s 152us/step - loss: 0.6812 - acc: 0.5640\n",
      "Epoch 106/200\n",
      "1000/1000 [==============================] - 0s 180us/step - loss: 0.6811 - acc: 0.5580\n",
      "Epoch 107/200\n",
      "1000/1000 [==============================] - 0s 149us/step - loss: 0.6779 - acc: 0.5700\n",
      "Epoch 108/200\n",
      "1000/1000 [==============================] - 0s 142us/step - loss: 0.6738 - acc: 0.5650\n",
      "Epoch 109/200\n",
      "1000/1000 [==============================] - 0s 141us/step - loss: 0.6750 - acc: 0.5770\n",
      "Epoch 110/200\n",
      "1000/1000 [==============================] - 0s 143us/step - loss: 0.6760 - acc: 0.5530\n",
      "Epoch 111/200\n",
      "1000/1000 [==============================] - 0s 146us/step - loss: 0.6770 - acc: 0.5600\n",
      "Epoch 112/200\n",
      "1000/1000 [==============================] - 0s 136us/step - loss: 0.6778 - acc: 0.5550\n",
      "Epoch 113/200\n",
      "1000/1000 [==============================] - 0s 169us/step - loss: 0.6789 - acc: 0.5760\n",
      "Epoch 114/200\n",
      "1000/1000 [==============================] - 0s 165us/step - loss: 0.6699 - acc: 0.5700\n",
      "Epoch 115/200\n",
      "1000/1000 [==============================] - 0s 169us/step - loss: 0.6749 - acc: 0.5680\n",
      "Epoch 116/200\n",
      "1000/1000 [==============================] - 0s 174us/step - loss: 0.6702 - acc: 0.5570\n",
      "Epoch 117/200\n",
      "1000/1000 [==============================] - 0s 203us/step - loss: 0.6771 - acc: 0.5750\n",
      "Epoch 118/200\n",
      "1000/1000 [==============================] - 0s 173us/step - loss: 0.6723 - acc: 0.5690\n",
      "Epoch 119/200\n",
      "1000/1000 [==============================] - 0s 172us/step - loss: 0.6767 - acc: 0.5450\n",
      "Epoch 120/200\n",
      "1000/1000 [==============================] - 0s 176us/step - loss: 0.6771 - acc: 0.5570\n",
      "Epoch 121/200\n",
      "1000/1000 [==============================] - 0s 183us/step - loss: 0.6740 - acc: 0.5850\n",
      "Epoch 122/200\n",
      "1000/1000 [==============================] - 0s 177us/step - loss: 0.6736 - acc: 0.5840\n",
      "Epoch 123/200\n",
      "1000/1000 [==============================] - 0s 185us/step - loss: 0.6746 - acc: 0.5750\n",
      "Epoch 124/200\n",
      "1000/1000 [==============================] - 0s 176us/step - loss: 0.6685 - acc: 0.5810\n",
      "Epoch 125/200\n",
      "1000/1000 [==============================] - 0s 179us/step - loss: 0.6774 - acc: 0.5670\n",
      "Epoch 126/200\n",
      "1000/1000 [==============================] - 0s 149us/step - loss: 0.6764 - acc: 0.5660\n",
      "Epoch 127/200\n",
      "1000/1000 [==============================] - 0s 156us/step - loss: 0.6709 - acc: 0.5870\n",
      "Epoch 128/200\n",
      "1000/1000 [==============================] - 0s 151us/step - loss: 0.6759 - acc: 0.5640\n",
      "Epoch 129/200\n",
      "1000/1000 [==============================] - 0s 152us/step - loss: 0.6694 - acc: 0.5780\n",
      "Epoch 130/200\n",
      "1000/1000 [==============================] - 0s 153us/step - loss: 0.6715 - acc: 0.5810\n",
      "Epoch 131/200\n",
      "1000/1000 [==============================] - 0s 149us/step - loss: 0.6757 - acc: 0.5700\n",
      "Epoch 132/200\n",
      "1000/1000 [==============================] - 0s 158us/step - loss: 0.6651 - acc: 0.5750\n",
      "Epoch 133/200\n",
      "1000/1000 [==============================] - 0s 154us/step - loss: 0.6657 - acc: 0.5790\n",
      "Epoch 134/200\n",
      "1000/1000 [==============================] - 0s 148us/step - loss: 0.6738 - acc: 0.5790\n",
      "Epoch 135/200\n",
      "1000/1000 [==============================] - 0s 160us/step - loss: 0.6759 - acc: 0.5530\n",
      "Epoch 136/200\n",
      "1000/1000 [==============================] - 0s 156us/step - loss: 0.6741 - acc: 0.5780\n",
      "Epoch 137/200\n",
      "1000/1000 [==============================] - 0s 160us/step - loss: 0.6653 - acc: 0.5840\n",
      "Epoch 138/200\n",
      "1000/1000 [==============================] - 0s 152us/step - loss: 0.6614 - acc: 0.5820\n",
      "Epoch 139/200\n",
      "1000/1000 [==============================] - 0s 159us/step - loss: 0.6736 - acc: 0.5660\n",
      "Epoch 140/200\n",
      "1000/1000 [==============================] - 0s 159us/step - loss: 0.6694 - acc: 0.5830\n",
      "Epoch 141/200\n",
      "1000/1000 [==============================] - 0s 160us/step - loss: 0.6710 - acc: 0.5660\n",
      "Epoch 142/200\n",
      "1000/1000 [==============================] - 0s 158us/step - loss: 0.6658 - acc: 0.5960\n",
      "Epoch 143/200\n",
      "1000/1000 [==============================] - 0s 156us/step - loss: 0.6694 - acc: 0.5850\n",
      "Epoch 144/200\n",
      "1000/1000 [==============================] - 0s 157us/step - loss: 0.6649 - acc: 0.5900\n",
      "Epoch 145/200\n",
      "1000/1000 [==============================] - 0s 158us/step - loss: 0.6716 - acc: 0.5730\n",
      "Epoch 146/200\n",
      "1000/1000 [==============================] - 0s 139us/step - loss: 0.6763 - acc: 0.5500\n",
      "Epoch 147/200\n",
      "1000/1000 [==============================] - 0s 152us/step - loss: 0.6622 - acc: 0.5950\n",
      "Epoch 148/200\n",
      "1000/1000 [==============================] - 0s 153us/step - loss: 0.6676 - acc: 0.5830\n",
      "Epoch 149/200\n",
      "1000/1000 [==============================] - 0s 161us/step - loss: 0.6666 - acc: 0.5940\n",
      "Epoch 150/200\n",
      "1000/1000 [==============================] - 0s 159us/step - loss: 0.6648 - acc: 0.5880\n",
      "Epoch 151/200\n",
      "1000/1000 [==============================] - 0s 148us/step - loss: 0.6627 - acc: 0.5850\n",
      "Epoch 152/200\n",
      "1000/1000 [==============================] - 0s 149us/step - loss: 0.6671 - acc: 0.5920\n",
      "Epoch 153/200\n",
      "1000/1000 [==============================] - 0s 174us/step - loss: 0.6629 - acc: 0.5990\n",
      "Epoch 154/200\n",
      "1000/1000 [==============================] - 0s 173us/step - loss: 0.6618 - acc: 0.6110\n",
      "Epoch 155/200\n",
      "1000/1000 [==============================] - 0s 143us/step - loss: 0.6605 - acc: 0.5930\n",
      "Epoch 156/200\n",
      "1000/1000 [==============================] - 0s 150us/step - loss: 0.6605 - acc: 0.5970\n",
      "Epoch 157/200\n",
      "1000/1000 [==============================] - 0s 161us/step - loss: 0.6627 - acc: 0.5940\n",
      "Epoch 158/200\n",
      "1000/1000 [==============================] - 0s 153us/step - loss: 0.6622 - acc: 0.6080\n",
      "Epoch 159/200\n",
      "1000/1000 [==============================] - 0s 149us/step - loss: 0.6597 - acc: 0.5790\n",
      "Epoch 160/200\n",
      "1000/1000 [==============================] - 0s 149us/step - loss: 0.6592 - acc: 0.5920\n",
      "Epoch 161/200\n",
      "1000/1000 [==============================] - 0s 150us/step - loss: 0.6602 - acc: 0.6010\n",
      "Epoch 162/200\n"
     ]
    },
    {
     "name": "stdout",
     "output_type": "stream",
     "text": [
      "1000/1000 [==============================] - 0s 159us/step - loss: 0.6609 - acc: 0.5980\n",
      "Epoch 163/200\n",
      "1000/1000 [==============================] - 0s 156us/step - loss: 0.6613 - acc: 0.5920\n",
      "Epoch 164/200\n",
      "1000/1000 [==============================] - 0s 136us/step - loss: 0.6601 - acc: 0.6080\n",
      "Epoch 165/200\n",
      "1000/1000 [==============================] - 0s 131us/step - loss: 0.6603 - acc: 0.5970\n",
      "Epoch 166/200\n",
      "1000/1000 [==============================] - 0s 141us/step - loss: 0.6636 - acc: 0.5900\n",
      "Epoch 167/200\n",
      "1000/1000 [==============================] - 0s 135us/step - loss: 0.6682 - acc: 0.6010\n",
      "Epoch 168/200\n",
      "1000/1000 [==============================] - 0s 131us/step - loss: 0.6564 - acc: 0.5990\n",
      "Epoch 169/200\n",
      "1000/1000 [==============================] - 0s 146us/step - loss: 0.6599 - acc: 0.6080\n",
      "Epoch 170/200\n",
      "1000/1000 [==============================] - 0s 182us/step - loss: 0.6565 - acc: 0.5920\n",
      "Epoch 171/200\n",
      "1000/1000 [==============================] - 0s 153us/step - loss: 0.6530 - acc: 0.6010\n",
      "Epoch 172/200\n",
      "1000/1000 [==============================] - 0s 153us/step - loss: 0.6545 - acc: 0.6130\n",
      "Epoch 173/200\n",
      "1000/1000 [==============================] - 0s 154us/step - loss: 0.6550 - acc: 0.6210\n",
      "Epoch 174/200\n",
      "1000/1000 [==============================] - 0s 147us/step - loss: 0.6560 - acc: 0.6040\n",
      "Epoch 175/200\n",
      "1000/1000 [==============================] - 0s 154us/step - loss: 0.6616 - acc: 0.6110\n",
      "Epoch 176/200\n",
      "1000/1000 [==============================] - 0s 168us/step - loss: 0.6540 - acc: 0.6040\n",
      "Epoch 177/200\n",
      "1000/1000 [==============================] - 0s 165us/step - loss: 0.6573 - acc: 0.6090\n",
      "Epoch 178/200\n",
      "1000/1000 [==============================] - 0s 155us/step - loss: 0.6584 - acc: 0.5960\n",
      "Epoch 179/200\n",
      "1000/1000 [==============================] - 0s 140us/step - loss: 0.6629 - acc: 0.5910\n",
      "Epoch 180/200\n",
      "1000/1000 [==============================] - 0s 161us/step - loss: 0.6579 - acc: 0.5980\n",
      "Epoch 181/200\n",
      "1000/1000 [==============================] - 0s 152us/step - loss: 0.6547 - acc: 0.6170\n",
      "Epoch 182/200\n",
      "1000/1000 [==============================] - 0s 147us/step - loss: 0.6533 - acc: 0.6100\n",
      "Epoch 183/200\n",
      "1000/1000 [==============================] - 0s 153us/step - loss: 0.6554 - acc: 0.6120\n",
      "Epoch 184/200\n",
      "1000/1000 [==============================] - 0s 147us/step - loss: 0.6575 - acc: 0.6070\n",
      "Epoch 185/200\n",
      "1000/1000 [==============================] - 0s 157us/step - loss: 0.6511 - acc: 0.6330\n",
      "Epoch 186/200\n",
      "1000/1000 [==============================] - 0s 159us/step - loss: 0.6560 - acc: 0.6130\n",
      "Epoch 187/200\n",
      "1000/1000 [==============================] - 0s 145us/step - loss: 0.6525 - acc: 0.6210\n",
      "Epoch 188/200\n",
      "1000/1000 [==============================] - 0s 150us/step - loss: 0.6539 - acc: 0.6170\n",
      "Epoch 189/200\n",
      "1000/1000 [==============================] - 0s 159us/step - loss: 0.6492 - acc: 0.6140\n",
      "Epoch 190/200\n",
      "1000/1000 [==============================] - 0s 174us/step - loss: 0.6565 - acc: 0.6230\n",
      "Epoch 191/200\n",
      "1000/1000 [==============================] - 0s 152us/step - loss: 0.6533 - acc: 0.6110\n",
      "Epoch 192/200\n",
      "1000/1000 [==============================] - 0s 152us/step - loss: 0.6605 - acc: 0.6060\n",
      "Epoch 193/200\n",
      "1000/1000 [==============================] - 0s 154us/step - loss: 0.6480 - acc: 0.6200\n",
      "Epoch 194/200\n",
      "1000/1000 [==============================] - 0s 162us/step - loss: 0.6577 - acc: 0.6200\n",
      "Epoch 195/200\n",
      "1000/1000 [==============================] - 0s 168us/step - loss: 0.6594 - acc: 0.6140\n",
      "Epoch 196/200\n",
      "1000/1000 [==============================] - 0s 156us/step - loss: 0.6576 - acc: 0.6200\n",
      "Epoch 197/200\n",
      "1000/1000 [==============================] - 0s 147us/step - loss: 0.6504 - acc: 0.6160\n",
      "Epoch 198/200\n",
      "1000/1000 [==============================] - 0s 151us/step - loss: 0.6516 - acc: 0.6250\n",
      "Epoch 199/200\n",
      "1000/1000 [==============================] - 0s 150us/step - loss: 0.6558 - acc: 0.6290\n",
      "Epoch 200/200\n",
      "1000/1000 [==============================] - 0s 150us/step - loss: 0.6502 - acc: 0.6340\n",
      "\n",
      "Training time: \n",
      "54.89785099029541\n"
     ]
    }
   ],
   "source": [
    "print('Training...')\n",
    "start_time = time.time()\n",
    "model.fit([final_queries, final_contexts], answers_train, epochs=200, batch_size=128)\n",
    "elapsed_time = time.time() - start_time\n",
    "print()\n",
    "print('Training time: ')\n",
    "print(elapsed_time)"
   ]
  },
  {
   "cell_type": "markdown",
   "metadata": {
    "collapsed": true
   },
   "source": [
    "# Test"
   ]
  },
  {
   "cell_type": "code",
   "execution_count": 286,
   "metadata": {
    "collapsed": true
   },
   "outputs": [],
   "source": [
    "final_context_test, final_queries_test= prep_data(final_test_data)"
   ]
  },
  {
   "cell_type": "code",
   "execution_count": 287,
   "metadata": {},
   "outputs": [
    {
     "name": "stdout",
     "output_type": "stream",
     "text": [
      "1000/1000 [==============================] - 0s 59us/step\n"
     ]
    }
   ],
   "source": [
    "score = model.evaluate([final_queries_test,final_context_test], answers_test, batch_size=128)"
   ]
  },
  {
   "cell_type": "code",
   "execution_count": 288,
   "metadata": {},
   "outputs": [
    {
     "name": "stdout",
     "output_type": "stream",
     "text": [
      "Final Testing Accuracy: [0.7255253295898437, 0.5179999995231629]\n"
     ]
    }
   ],
   "source": [
    "print('Final Testing Accuracy: '+ str(score))"
   ]
  },
  {
   "cell_type": "code",
   "execution_count": null,
   "metadata": {
    "collapsed": true
   },
   "outputs": [],
   "source": []
  }
 ],
 "metadata": {
  "kernelspec": {
   "display_name": "Python 3",
   "language": "python",
   "name": "python3"
  },
  "language_info": {
   "codemirror_mode": {
    "name": "ipython",
    "version": 3
   },
   "file_extension": ".py",
   "mimetype": "text/x-python",
   "name": "python",
   "nbconvert_exporter": "python",
   "pygments_lexer": "ipython3",
   "version": "3.6.3"
  }
 },
 "nbformat": 4,
 "nbformat_minor": 2
}
