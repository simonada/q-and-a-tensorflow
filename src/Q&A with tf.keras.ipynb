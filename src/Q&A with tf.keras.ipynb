{
 "cells": [
  {
   "cell_type": "code",
   "execution_count": 4,
   "metadata": {},
   "outputs": [
    {
     "name": "stderr",
     "output_type": "stream",
     "text": [
      "/Users/sdoneva/anaconda/lib/python3.6/site-packages/h5py/__init__.py:34: FutureWarning: Conversion of the second argument of issubdtype from `float` to `np.floating` is deprecated. In future, it will be treated as `np.float64 == np.dtype(float).type`.\n",
      "  from ._conv import register_converters as _register_converters\n",
      "Using TensorFlow backend.\n"
     ]
    }
   ],
   "source": [
    "import tensorflow as tf\n",
    "#import tensorflow.contrib.eager as tfe\n",
    "import os\n",
    "import matplotlib.pyplot as plt\n",
    "import re\n",
    "import numpy as np\n",
    "from string import punctuation\n",
    "from collections import defaultdict\n",
    "from functools import reduce\n",
    "from keras.preprocessing.sequence import pad_sequences\n",
    "from itertools import chain\n",
    "from InputPreparator import EmbeddingsPreparator\n",
    "from InputPreparator import StoryParser"
   ]
  },
  {
   "cell_type": "markdown",
   "metadata": {},
   "source": [
    "# Input preparation"
   ]
  },
  {
   "cell_type": "code",
   "execution_count": 21,
   "metadata": {
    "collapsed": true
   },
   "outputs": [],
   "source": [
    "def get_task_files(task_nr):\n",
    "    if task_nr==5:\n",
    "        return 'qa5_three-arg-relations_train.txt', \"qa5_three-arg-relations_test.txt\"\n",
    "    if task_nr==6:\n",
    "        return 'qa6_yes-no-questions_train.txt', 'qa6_yes-no-questions_test.txt'\n",
    "    if task_nr==10:\n",
    "        return 'qa10_indefinite-knowledge_train.txt', 'qa10_indefinite-knowledge_test.txt'"
   ]
  },
  {
   "cell_type": "code",
   "execution_count": 22,
   "metadata": {
    "collapsed": true
   },
   "outputs": [],
   "source": [
    "train_set_file = get_task_files(10)[0]\n",
    "test_set_file = get_task_files(10)[1]\n",
    "\n",
    "train_set_post_file = \"tasks_1-20_v1-2/en/\"+train_set_file\n",
    "test_set_post_file = \"tasks_1-20_v1-2/en/\"+test_set_file"
   ]
  },
  {
   "cell_type": "code",
   "execution_count": 23,
   "metadata": {
    "collapsed": true
   },
   "outputs": [],
   "source": [
    "embedder=EmbeddingsPreparator()\n",
    "story_parser=StoryParser()"
   ]
  },
  {
   "cell_type": "code",
   "execution_count": 24,
   "metadata": {
    "collapsed": true
   },
   "outputs": [],
   "source": [
    "vocab_tokens = embedder.get_unique_tokens([train_set_post_file, test_set_post_file])"
   ]
  },
  {
   "cell_type": "code",
   "execution_count": 25,
   "metadata": {
    "collapsed": true
   },
   "outputs": [],
   "source": [
    "word_to_index, index_to_embedding = embedder.load_embedding_from_disks(\"glove.6B.50d.txt\",vocab_tokens, with_indexes=True)"
   ]
  },
  {
   "cell_type": "code",
   "execution_count": 26,
   "metadata": {},
   "outputs": [
    {
     "name": "stderr",
     "output_type": "stream",
     "text": [
      "/Users/sdoneva/anaconda/lib/python3.6/re.py:212: FutureWarning: split() requires a non-empty pattern match.\n",
      "  return _compile(pattern, flags).split(string, maxsplit)\n"
     ]
    }
   ],
   "source": [
    "train_stories=story_parser.get_stories(train_set_post_file, True)\n",
    "test_stories=story_parser.get_stories(test_set_post_file, True)"
   ]
  },
  {
   "cell_type": "code",
   "execution_count": 27,
   "metadata": {
    "collapsed": true
   },
   "outputs": [],
   "source": [
    "contexts_train, questions_train, answers_train = story_parser.vectorize_stories(train_stories, word_to_index)\n",
    "contexts_test, questions_test, answers_test = story_parser.vectorize_stories(test_stories, word_to_index)"
   ]
  },
  {
   "cell_type": "code",
   "execution_count": 28,
   "metadata": {},
   "outputs": [
    {
     "name": "stdout",
     "output_type": "stream",
     "text": [
      "contexts.shape = (1000,)\n",
      "questions.shape = (1000, 6)\n",
      "answers.shape = (1000, 27)\n"
     ]
    }
   ],
   "source": [
    "print('contexts.shape = {}'.format(contexts_train.shape))\n",
    "print('questions.shape = {}'.format(questions_train.shape))\n",
    "print('answers.shape = {}'.format(answers_train.shape))"
   ]
  },
  {
   "cell_type": "code",
   "execution_count": 45,
   "metadata": {},
   "outputs": [
    {
     "data": {
      "text/plain": [
       "50"
      ]
     },
     "execution_count": 45,
     "metadata": {},
     "output_type": "execute_result"
    }
   ],
   "source": [
    "index_to_embedding.shape[1]"
   ]
  },
  {
   "cell_type": "code",
   "execution_count": 49,
   "metadata": {},
   "outputs": [
    {
     "ename": "IndexError",
     "evalue": "tuple index out of range",
     "output_type": "error",
     "traceback": [
      "\u001b[0;31m---------------------------------------------------------------------------\u001b[0m",
      "\u001b[0;31mIndexError\u001b[0m                                Traceback (most recent call last)",
      "\u001b[0;32m<ipython-input-49-7045e00a9a3b>\u001b[0m in \u001b[0;36m<module>\u001b[0;34m()\u001b[0m\n\u001b[0;32m----> 1\u001b[0;31m \u001b[0mcontexts_train\u001b[0m\u001b[0;34m.\u001b[0m\u001b[0mshape\u001b[0m\u001b[0;34m[\u001b[0m\u001b[0;36m1\u001b[0m\u001b[0;34m]\u001b[0m\u001b[0;34m\u001b[0m\u001b[0m\n\u001b[0m",
      "\u001b[0;31mIndexError\u001b[0m: tuple index out of range"
     ]
    }
   ],
   "source": [
    "contexts_train.shape[1]"
   ]
  },
  {
   "cell_type": "code",
   "execution_count": 29,
   "metadata": {},
   "outputs": [],
   "source": [
    "final_train_data = story_parser.get_final_dataset(contexts_train, questions_train, answers_train)\n",
    "final_test_data = story_parser.get_final_dataset(contexts_test, questions_test, answers_test)"
   ]
  },
  {
   "cell_type": "code",
   "execution_count": 30,
   "metadata": {
    "collapsed": true
   },
   "outputs": [],
   "source": [
    "def prep_batch(batch_data, all_data= False, train= False):\n",
    "    contextsvs, questionsvs, answers=zip(*batch_data)\n",
    "    \n",
    "    #Pad to longest sequence in the batch \n",
    "    contexts = list(contextsvs)\n",
    "    max_context_length = max([len(x) for x in contexts])\n",
    "    questions = list(questionsvs)\n",
    "    max_query_length = max(len(x) for x in questionsvs)\n",
    "\n",
    "    final_contexts=pad_sequences(contextsvs, maxlen=max_context_length) \n",
    "    final_queries=pad_sequences(questionsvs, maxlen=max_query_length)\n",
    "    \n",
    "    return final_contexts, final_queries"
   ]
  },
  {
   "cell_type": "markdown",
   "metadata": {},
   "source": [
    "# Model"
   ]
  },
  {
   "cell_type": "code",
   "execution_count": 50,
   "metadata": {
    "collapsed": true
   },
   "outputs": [],
   "source": [
    "vocab_size=len(index_to_embedding)\n",
    "final_contexts, final_queries= prep_batch(final_train_data)\n",
    "q_shape=final_queries.shape[1]\n",
    "c_shape=final_contexts.shape[1]"
   ]
  },
  {
   "cell_type": "code",
   "execution_count": 51,
   "metadata": {},
   "outputs": [
    {
     "name": "stdout",
     "output_type": "stream",
     "text": [
      "__________________________________________________________________________________________________\n",
      "Layer (type)                    Output Shape         Param #     Connected to                     \n",
      "==================================================================================================\n",
      "input_8 (InputLayer)            (None, 10)           0                                            \n",
      "__________________________________________________________________________________________________\n",
      "input_7 (InputLayer)            (None, 6)            0                                            \n",
      "__________________________________________________________________________________________________\n",
      "embedding_8 (Embedding)         (None, 10, 50)       1350        input_8[0][0]                    \n",
      "__________________________________________________________________________________________________\n",
      "embedding_7 (Embedding)         (None, 6, 50)        1350        input_7[0][0]                    \n",
      "__________________________________________________________________________________________________\n",
      "rnn_7 (RNN)                     (None, 50)           15150       embedding_8[0][0]                \n",
      "__________________________________________________________________________________________________\n",
      "rnn_8 (RNN)                     (None, 50)           15150       embedding_7[0][0]                \n",
      "__________________________________________________________________________________________________\n",
      "dropout_7 (Dropout)             (None, 50)           0           rnn_7[0][0]                      \n",
      "__________________________________________________________________________________________________\n",
      "dropout_8 (Dropout)             (None, 50)           0           rnn_8[0][0]                      \n",
      "__________________________________________________________________________________________________\n",
      "concatenate_4 (Concatenate)     (None, 100)          0           dropout_7[0][0]                  \n",
      "                                                                 dropout_8[0][0]                  \n",
      "__________________________________________________________________________________________________\n",
      "dense_4 (Dense)                 (None, 27)           2727        concatenate_4[0][0]              \n",
      "==================================================================================================\n",
      "Total params: 20,577\n",
      "Trainable params: 20,577\n",
      "Non-trainable params: 0\n",
      "__________________________________________________________________________________________________\n"
     ]
    }
   ],
   "source": [
    "q_in = tf.keras.Input(shape=(q_shape,))\n",
    "c_in = tf.keras.Input(shape=(c_shape,))\n",
    "\n",
    "#embed\n",
    "q= tf.keras.layers.Embedding(vocab_size, 50)(q_in)\n",
    "c= tf.keras.layers.Embedding(vocab_size, 50)(c_in)\n",
    "\n",
    "#encode\n",
    "grucell= tf.keras.layers.GRUCell(50)\n",
    "c = tf.keras.layers.RNN(grucell)(c)\n",
    "encoded_sentence=tf.keras.layers.Dropout(0.5)(c)\n",
    "\n",
    "q = tf.keras.layers.RNN(grucell)(q)\n",
    "encoded_question=tf.keras.layers.Dropout(0.5)(q)\n",
    "\n",
    "#merge\n",
    "merged= tf.keras.layers.concatenate([encoded_sentence, encoded_question])\n",
    "\n",
    "#predict\n",
    "pred=tf.keras.layers.Dense(answers_train.shape[1], activation=tf.nn.softmax)(merged)\n",
    "\n",
    "model = tf.keras.Model(inputs=[q_in, c_in], outputs=pred)\n",
    "\n",
    "model.compile(optimizer='adam',\n",
    "              loss='categorical_crossentropy',\n",
    "              metrics=['accuracy'])\n",
    "model.summary()"
   ]
  },
  {
   "cell_type": "markdown",
   "metadata": {},
   "source": [
    "## Train"
   ]
  },
  {
   "cell_type": "code",
   "execution_count": 38,
   "metadata": {},
   "outputs": [
    {
     "name": "stdout",
     "output_type": "stream",
     "text": [
      "Epoch 1/50\n",
      "1000/1000 [==============================] - 2s 2ms/step - loss: 2.5160 - acc: 0.2750\n",
      "Epoch 2/50\n",
      "1000/1000 [==============================] - 0s 176us/step - loss: 1.5636 - acc: 0.4460\n",
      "Epoch 3/50\n",
      "1000/1000 [==============================] - 0s 189us/step - loss: 1.3509 - acc: 0.4530\n",
      "Epoch 4/50\n",
      "1000/1000 [==============================] - 0s 198us/step - loss: 1.1899 - acc: 0.4580\n",
      "Epoch 5/50\n",
      "1000/1000 [==============================] - 0s 193us/step - loss: 1.2018 - acc: 0.4540\n",
      "Epoch 6/50\n",
      "1000/1000 [==============================] - 0s 254us/step - loss: 1.1929 - acc: 0.4300\n",
      "Epoch 7/50\n",
      "1000/1000 [==============================] - 0s 230us/step - loss: 1.1642 - acc: 0.4500\n",
      "Epoch 8/50\n",
      "1000/1000 [==============================] - 0s 190us/step - loss: 1.1128 - acc: 0.4420\n",
      "Epoch 9/50\n",
      "1000/1000 [==============================] - 0s 190us/step - loss: 1.0848 - acc: 0.4420\n",
      "Epoch 10/50\n",
      "1000/1000 [==============================] - 0s 184us/step - loss: 1.0300 - acc: 0.4500\n",
      "Epoch 11/50\n",
      "1000/1000 [==============================] - 0s 191us/step - loss: 0.9283 - acc: 0.4990\n",
      "Epoch 12/50\n",
      "1000/1000 [==============================] - 0s 214us/step - loss: 0.8907 - acc: 0.4890\n",
      "Epoch 13/50\n",
      "1000/1000 [==============================] - 0s 196us/step - loss: 0.7902 - acc: 0.5460\n",
      "Epoch 14/50\n",
      "1000/1000 [==============================] - 0s 212us/step - loss: 0.8514 - acc: 0.5000\n",
      "Epoch 15/50\n",
      "1000/1000 [==============================] - 0s 193us/step - loss: 0.8341 - acc: 0.4830\n",
      "Epoch 16/50\n",
      "1000/1000 [==============================] - 0s 205us/step - loss: 0.7947 - acc: 0.5400\n",
      "Epoch 17/50\n",
      "1000/1000 [==============================] - 0s 189us/step - loss: 0.7693 - acc: 0.5160\n",
      "Epoch 18/50\n",
      "1000/1000 [==============================] - 0s 185us/step - loss: 0.7926 - acc: 0.5070\n",
      "Epoch 19/50\n",
      "1000/1000 [==============================] - 0s 202us/step - loss: 0.7994 - acc: 0.4990\n",
      "Epoch 20/50\n",
      "1000/1000 [==============================] - 0s 231us/step - loss: 0.7845 - acc: 0.5210\n",
      "Epoch 21/50\n",
      "1000/1000 [==============================] - 0s 218us/step - loss: 0.7737 - acc: 0.5180\n",
      "Epoch 22/50\n",
      "1000/1000 [==============================] - 0s 203us/step - loss: 0.7730 - acc: 0.5110\n",
      "Epoch 23/50\n",
      "1000/1000 [==============================] - 0s 211us/step - loss: 0.7509 - acc: 0.5230\n",
      "Epoch 24/50\n",
      "1000/1000 [==============================] - 0s 208us/step - loss: 0.7582 - acc: 0.5200\n",
      "Epoch 25/50\n",
      "1000/1000 [==============================] - 0s 188us/step - loss: 0.7638 - acc: 0.5090\n",
      "Epoch 26/50\n",
      "1000/1000 [==============================] - 0s 182us/step - loss: 0.7444 - acc: 0.5290\n",
      "Epoch 27/50\n",
      "1000/1000 [==============================] - 0s 224us/step - loss: 0.7431 - acc: 0.5320 0s - loss: 0.7453 - acc: 0.526\n",
      "Epoch 28/50\n",
      "1000/1000 [==============================] - 0s 205us/step - loss: 0.7374 - acc: 0.5300\n",
      "Epoch 29/50\n",
      "1000/1000 [==============================] - 0s 221us/step - loss: 0.7648 - acc: 0.5030\n",
      "Epoch 30/50\n",
      "1000/1000 [==============================] - 0s 191us/step - loss: 0.7415 - acc: 0.5300\n",
      "Epoch 31/50\n",
      "1000/1000 [==============================] - 0s 206us/step - loss: 0.7342 - acc: 0.5420\n",
      "Epoch 32/50\n",
      "1000/1000 [==============================] - 0s 215us/step - loss: 0.7466 - acc: 0.5270\n",
      "Epoch 33/50\n",
      "1000/1000 [==============================] - ETA: 0s - loss: 0.7389 - acc: 0.510 - 0s 199us/step - loss: 0.7399 - acc: 0.5060\n",
      "Epoch 34/50\n",
      "1000/1000 [==============================] - 0s 195us/step - loss: 0.7452 - acc: 0.5280\n",
      "Epoch 35/50\n",
      "1000/1000 [==============================] - 0s 223us/step - loss: 0.7258 - acc: 0.5370\n",
      "Epoch 36/50\n",
      "1000/1000 [==============================] - 0s 212us/step - loss: 0.7123 - acc: 0.5560\n",
      "Epoch 37/50\n",
      "1000/1000 [==============================] - 0s 207us/step - loss: 0.7283 - acc: 0.5350\n",
      "Epoch 38/50\n",
      "1000/1000 [==============================] - 0s 213us/step - loss: 0.7181 - acc: 0.5450\n",
      "Epoch 39/50\n",
      "1000/1000 [==============================] - 0s 202us/step - loss: 0.7193 - acc: 0.5380\n",
      "Epoch 40/50\n",
      "1000/1000 [==============================] - 0s 195us/step - loss: 0.7082 - acc: 0.5490\n",
      "Epoch 41/50\n",
      "1000/1000 [==============================] - 0s 211us/step - loss: 0.7283 - acc: 0.5460\n",
      "Epoch 42/50\n",
      "1000/1000 [==============================] - 0s 219us/step - loss: 0.7285 - acc: 0.5200\n",
      "Epoch 43/50\n",
      "1000/1000 [==============================] - 0s 209us/step - loss: 0.7201 - acc: 0.5270\n",
      "Epoch 44/50\n",
      "1000/1000 [==============================] - 0s 213us/step - loss: 0.7158 - acc: 0.5410\n",
      "Epoch 45/50\n",
      "1000/1000 [==============================] - 0s 197us/step - loss: 0.7149 - acc: 0.5280\n",
      "Epoch 46/50\n",
      "1000/1000 [==============================] - 0s 200us/step - loss: 0.7166 - acc: 0.5550\n",
      "Epoch 47/50\n",
      "1000/1000 [==============================] - 0s 214us/step - loss: 0.7163 - acc: 0.5430\n",
      "Epoch 48/50\n",
      "1000/1000 [==============================] - 0s 210us/step - loss: 0.7198 - acc: 0.5450\n",
      "Epoch 49/50\n",
      "1000/1000 [==============================] - 0s 199us/step - loss: 0.7321 - acc: 0.5270\n",
      "Epoch 50/50\n",
      "1000/1000 [==============================] - 0s 190us/step - loss: 0.7217 - acc: 0.5380\n"
     ]
    },
    {
     "data": {
      "text/plain": [
       "<tensorflow.python.keras._impl.keras.callbacks.History at 0x11e1da588>"
      ]
     },
     "execution_count": 38,
     "metadata": {},
     "output_type": "execute_result"
    }
   ],
   "source": [
    "model.fit([final_queries, final_contexts], answers_train, epochs=50, batch_size=128)"
   ]
  },
  {
   "cell_type": "markdown",
   "metadata": {
    "collapsed": true
   },
   "source": [
    "# Test"
   ]
  },
  {
   "cell_type": "code",
   "execution_count": 39,
   "metadata": {},
   "outputs": [],
   "source": [
    "final_context_test, final_queries_test= prep_batch(final_test_data)"
   ]
  },
  {
   "cell_type": "code",
   "execution_count": 40,
   "metadata": {},
   "outputs": [
    {
     "name": "stdout",
     "output_type": "stream",
     "text": [
      "1000/1000 [==============================] - 0s 338us/step\n"
     ]
    }
   ],
   "source": [
    "score = model.evaluate([final_queries_test,final_context_test], answers_test, batch_size=128)"
   ]
  },
  {
   "cell_type": "code",
   "execution_count": 41,
   "metadata": {},
   "outputs": [
    {
     "data": {
      "text/plain": [
       "[0.7028324985504151, 0.49000000286102297]"
      ]
     },
     "execution_count": 41,
     "metadata": {},
     "output_type": "execute_result"
    }
   ],
   "source": [
    "score"
   ]
  },
  {
   "cell_type": "code",
   "execution_count": null,
   "metadata": {
    "collapsed": true
   },
   "outputs": [],
   "source": []
  }
 ],
 "metadata": {
  "kernelspec": {
   "display_name": "Python 3",
   "language": "python",
   "name": "python3"
  },
  "language_info": {
   "codemirror_mode": {
    "name": "ipython",
    "version": 3
   },
   "file_extension": ".py",
   "mimetype": "text/x-python",
   "name": "python",
   "nbconvert_exporter": "python",
   "pygments_lexer": "ipython3",
   "version": "3.6.3"
  }
 },
 "nbformat": 4,
 "nbformat_minor": 2
}
