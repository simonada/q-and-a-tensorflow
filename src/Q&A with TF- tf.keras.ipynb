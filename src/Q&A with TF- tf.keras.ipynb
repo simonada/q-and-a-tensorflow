{
 "cells": [
  {
   "cell_type": "code",
   "execution_count": 6,
   "metadata": {},
   "outputs": [
    {
     "name": "stderr",
     "output_type": "stream",
     "text": [
      "/Users/sdoneva/anaconda/lib/python3.6/site-packages/h5py/__init__.py:34: FutureWarning: Conversion of the second argument of issubdtype from `float` to `np.floating` is deprecated. In future, it will be treated as `np.float64 == np.dtype(float).type`.\n",
      "  from ._conv import register_converters as _register_converters\n",
      "Using TensorFlow backend.\n"
     ]
    }
   ],
   "source": [
    "import tensorflow as tf\n",
    "#import tensorflow.contrib.eager as tfe\n",
    "import os\n",
    "import matplotlib.pyplot as plt\n",
    "import re\n",
    "import numpy as np\n",
    "from string import punctuation\n",
    "from collections import defaultdict\n",
    "from functools import reduce\n",
    "from keras.preprocessing.sequence import pad_sequences\n",
    "from itertools import chain\n",
    "from InputPreparator import EmbeddingsPreparator\n",
    "from InputPreparator import StoryParser\n",
    "import time\n",
    "import csv\n",
    "#to avoid a warning from TF 1.7 version see https://github.com/tensorflow/tensorflow/issues/18111\n",
    "import warnings\n",
    "warnings.filterwarnings('ignore')\n"
   ]
  },
  {
   "cell_type": "markdown",
   "metadata": {},
   "source": [
    "# Task selection"
   ]
  },
  {
   "cell_type": "code",
   "execution_count": 85,
   "metadata": {
    "collapsed": true
   },
   "outputs": [],
   "source": [
    "TASK_NUMBER = 10\n",
    "SUPPORTING_ONLY = True\n",
    "USE_PRETRAINED = True\n",
    "PATH_TO_EMBED = \"data/glove.6B.50d.txt\"\n",
    "PATH_TO_TASKS = \"data/tasks_1-20_v1-2/en/\""
   ]
  },
  {
   "cell_type": "code",
   "execution_count": 65,
   "metadata": {
    "collapsed": true
   },
   "outputs": [],
   "source": [
    "def get_task_files(task_nr):\n",
    "    if task_nr==5:\n",
    "        return 'qa5_three-arg-relations_train.txt', \"qa5_three-arg-relations_test.txt\"\n",
    "    if task_nr==6:\n",
    "        return 'qa6_yes-no-questions_train.txt', 'qa6_yes-no-questions_test.txt'\n",
    "    if task_nr==10:\n",
    "        return 'qa10_indefinite-knowledge_train.txt', 'qa10_indefinite-knowledge_test.txt'"
   ]
  },
  {
   "cell_type": "code",
   "execution_count": 66,
   "metadata": {
    "collapsed": true
   },
   "outputs": [],
   "source": [
    "train_set_file = get_task_files(TASK_NUMBER)[0]\n",
    "test_set_file = get_task_files(TASK_NUMBER)[1]\n",
    "\n",
    "train_set_post_file = PATH_TO_TASKS + train_set_file\n",
    "test_set_post_file = PATH_TO_TASKS + test_set_file"
   ]
  },
  {
   "cell_type": "code",
   "execution_count": 67,
   "metadata": {},
   "outputs": [],
   "source": [
    "embedder=EmbeddingsPreparator()\n",
    "story_parser=StoryParser()"
   ]
  },
  {
   "cell_type": "markdown",
   "metadata": {},
   "source": [
    "# Input preparation"
   ]
  },
  {
   "cell_type": "code",
   "execution_count": 68,
   "metadata": {},
   "outputs": [],
   "source": [
    "vocab_tokens = embedder.get_unique_tokens([train_set_post_file, test_set_post_file])"
   ]
  },
  {
   "cell_type": "code",
   "execution_count": 69,
   "metadata": {
    "collapsed": true
   },
   "outputs": [],
   "source": [
    "word_to_index, index_to_embedding = embedder.load_embedding_from_disks(PATH_TO_EMBED, vocab_tokens, with_indexes=True)"
   ]
  },
  {
   "cell_type": "code",
   "execution_count": 70,
   "metadata": {
    "collapsed": true
   },
   "outputs": [],
   "source": [
    "train_stories=story_parser.get_stories(train_set_post_file, SUPPORTING_ONLY)\n",
    "test_stories=story_parser.get_stories(test_set_post_file, SUPPORTING_ONLY)"
   ]
  },
  {
   "cell_type": "code",
   "execution_count": 71,
   "metadata": {
    "collapsed": true
   },
   "outputs": [],
   "source": [
    "contexts_train, questions_train, answers_train = story_parser.vectorize_stories(train_stories, word_to_index)\n",
    "contexts_test, questions_test, answers_test = story_parser.vectorize_stories(test_stories, word_to_index)"
   ]
  },
  {
   "cell_type": "code",
   "execution_count": 72,
   "metadata": {},
   "outputs": [
    {
     "name": "stdout",
     "output_type": "stream",
     "text": [
      "contexts.shape = (1000,)\n",
      "questions.shape = (1000, 6)\n",
      "answers.shape = (1000, 27)\n"
     ]
    }
   ],
   "source": [
    "print('contexts.shape = {}'.format(contexts_train.shape))\n",
    "print('questions.shape = {}'.format(questions_train.shape))\n",
    "print('answers.shape = {}'.format(answers_train.shape))"
   ]
  },
  {
   "cell_type": "markdown",
   "metadata": {},
   "source": [
    "## Embeddings "
   ]
  },
  {
   "cell_type": "code",
   "execution_count": 73,
   "metadata": {
    "collapsed": true
   },
   "outputs": [],
   "source": [
    "embed_dimensions= 50\n",
    "\n",
    "embedding_matrix = np.zeros((len(word_to_index) + 1, embed_dimensions))\n",
    "for word, i in word_to_index.items():\n",
    "    embedding_vector = index_to_embedding[i]\n",
    "    if embedding_vector is not None:\n",
    "        # words not found in embedding index will be all-zeros.\n",
    "        embedding_matrix[i] = embedding_vector"
   ]
  },
  {
   "cell_type": "markdown",
   "metadata": {},
   "source": [
    "## Datasets"
   ]
  },
  {
   "cell_type": "code",
   "execution_count": 74,
   "metadata": {
    "collapsed": true
   },
   "outputs": [],
   "source": [
    "final_train_data = story_parser.get_final_dataset(contexts_train, questions_train, answers_train)\n",
    "final_test_data = story_parser.get_final_dataset(contexts_test, questions_test, answers_test)"
   ]
  },
  {
   "cell_type": "code",
   "execution_count": 75,
   "metadata": {
    "collapsed": true
   },
   "outputs": [],
   "source": [
    "def prep_data(data, all_data= False, train= False):\n",
    "    contextsvs, questionsvs, answers=zip(*data)\n",
    "    \n",
    "    #Pad to longest sequence in the batch \n",
    "    contexts = list(contextsvs)\n",
    "    max_context_length = max([len(x) for x in contexts])\n",
    "    questions = list(questionsvs)\n",
    "    max_query_length = max(len(x) for x in questionsvs)\n",
    "\n",
    "    final_contexts=pad_sequences(contextsvs, maxlen=max_context_length) \n",
    "    final_queries=pad_sequences(questionsvs, maxlen=max_query_length)\n",
    "    \n",
    "    return final_contexts, final_queries"
   ]
  },
  {
   "cell_type": "markdown",
   "metadata": {},
   "source": [
    "# tf.keras Model : Hyperparameters"
   ]
  },
  {
   "cell_type": "code",
   "execution_count": 76,
   "metadata": {
    "collapsed": true
   },
   "outputs": [],
   "source": [
    "final_contexts, final_queries= prep_data(final_train_data)\n",
    "\n",
    "vocab_size= len(index_to_embedding)\n",
    "num_units_gru= 50\n",
    "keep_prob= 0.5"
   ]
  },
  {
   "cell_type": "markdown",
   "metadata": {},
   "source": [
    "# tf.keras Model "
   ]
  },
  {
   "cell_type": "code",
   "execution_count": 77,
   "metadata": {
    "collapsed": true
   },
   "outputs": [],
   "source": [
    "q_in = tf.keras.Input(shape=(None,))\n",
    "c_in = tf.keras.Input(shape=(None,))\n",
    "\n",
    "#embed\n",
    "embed = tf.keras.layers.Embedding(len(word_to_index) + 1,\n",
    "                            embed_dimensions,\n",
    "                            weights=[embedding_matrix],\n",
    "                            trainable=False)\n",
    "q = embed(q_in)\n",
    "c = embed(c_in)\n",
    "\n",
    "#encode\n",
    "grucell= tf.keras.layers.GRUCell(num_units_gru)\n",
    "context_encoded_rnn, context_final_state = tf.keras.layers.RNN(grucell, return_state= True)(c)\n",
    "question_encoded_rnn, question_final_state = tf.keras.layers.RNN(grucell, return_state= True)(q)\n",
    "\n",
    "#add dropout\n",
    "dropout= tf.keras.layers.Dropout(keep_prob)\n",
    "encoded_sentence= dropout(context_final_state)\n",
    "encoded_question= dropout(question_final_state)\n",
    "\n",
    "#merge\n",
    "merged= tf.keras.layers.concatenate([encoded_sentence, encoded_question])\n",
    "\n",
    "#predict\n",
    "pred=tf.keras.layers.Dense(answers_train.shape[1], activation=tf.nn.softmax)(merged)\n"
   ]
  },
  {
   "cell_type": "markdown",
   "metadata": {},
   "source": [
    "# tf.keras Model : Functions"
   ]
  },
  {
   "cell_type": "code",
   "execution_count": 78,
   "metadata": {
    "collapsed": true
   },
   "outputs": [],
   "source": [
    "def get_model_version():\n",
    "    task_nr = str(TASK_NUMBER)\n",
    "    name= 'task_' + task_nr+\"_\"\n",
    "    if SUPPORTING_ONLY:\n",
    "        name=name+\"reduced\"\n",
    "    else:\n",
    "        name=name+\"whole\"\n",
    "    return name"
   ]
  },
  {
   "cell_type": "code",
   "execution_count": 79,
   "metadata": {
    "collapsed": true
   },
   "outputs": [],
   "source": [
    "def get_best_model():\n",
    "    if SUPPORTING_ONLY:      \n",
    "        if TASK_NUMBER == 5:\n",
    "            best = model_version + '_3.ckpt'\n",
    "        elif TASK_NUMBER == 6:\n",
    "            best = model_version + '_1.ckpt'\n",
    "        else:\n",
    "            best = model_version + '_3.ckpt'\n",
    "    else:\n",
    "        if TASK_NUMBER == 5:\n",
    "            best = model_version + '_1.ckpt'\n",
    "        elif TASK_NUMBER == 6:\n",
    "            best = model_version + '_1.ckpt'\n",
    "        else:\n",
    "            best = model_version + '_3.ckpt'\n",
    "    return best"
   ]
  },
  {
   "cell_type": "code",
   "execution_count": 80,
   "metadata": {},
   "outputs": [],
   "source": [
    "def restore():\n",
    "    best = get_best_model()\n",
    "    model=tf.keras.models.load_model('./restore/tf_keras/'+ best, custom_objects=None, compile=True)\n",
    "    return model"
   ]
  },
  {
   "cell_type": "code",
   "execution_count": 81,
   "metadata": {
    "collapsed": true
   },
   "outputs": [],
   "source": [
    "def evaluate_model(model):\n",
    "    model.summary()\n",
    "    final_context_test, final_queries_test= prep_data(final_test_data)\n",
    "    score = model.evaluate([final_queries_test,final_context_test], answers_test, batch_size=128)\n",
    "    print('Final Testing Accuracy: '+ str(score))"
   ]
  },
  {
   "cell_type": "code",
   "execution_count": 82,
   "metadata": {
    "collapsed": true
   },
   "outputs": [],
   "source": [
    "def train(model):\n",
    "    tbCallBack = tf.keras.callbacks.TensorBoard(log_dir='./keraslog', histogram_freq=0, write_graph=True, write_images=True)\n",
    "\n",
    "    print('Training...')\n",
    "    start_time = time.time()\n",
    "    model.fit([final_queries, final_contexts], answers_train, epochs=200, batch_size=128, validation_split=0.2, callbacks=[tbCallBack])\n",
    "    elapsed_time = time.time() - start_time\n",
    "    print()\n",
    "    print('Training time: ')\n",
    "    print(elapsed_time)"
   ]
  },
  {
   "cell_type": "code",
   "execution_count": 83,
   "metadata": {
    "collapsed": true
   },
   "outputs": [],
   "source": [
    "def save(model):\n",
    "    if not os.path.exists('./save/tf_keras/'):\n",
    "        os.makedirs('./save/tf_keras/')\n",
    "    save_path = \"./save/tf_keras/\"+model_version+'_3.ckpt'\n",
    "    tf.keras.models.save_model(model, save_path)\n",
    "\n",
    "    print(\"Model saved in path: %s\" % save_path)"
   ]
  },
  {
   "cell_type": "markdown",
   "metadata": {},
   "source": [
    "# Train or Restore"
   ]
  },
  {
   "cell_type": "code",
   "execution_count": 87,
   "metadata": {},
   "outputs": [
    {
     "name": "stdout",
     "output_type": "stream",
     "text": [
      "__________________________________________________________________________________________________\n",
      "Layer (type)                    Output Shape         Param #     Connected to                     \n",
      "==================================================================================================\n",
      "input_46 (InputLayer)           (None, None)         0                                            \n",
      "__________________________________________________________________________________________________\n",
      "input_45 (InputLayer)           (None, None)         0                                            \n",
      "__________________________________________________________________________________________________\n",
      "embedding_23 (Embedding)        (None, None, 50)     1350        input_45[0][0]                   \n",
      "                                                                 input_46[0][0]                   \n",
      "__________________________________________________________________________________________________\n",
      "rnn_45 (RNN)                    [(None, 50), (None,  15150       embedding_23[1][0]               \n",
      "__________________________________________________________________________________________________\n",
      "rnn_46 (RNN)                    [(None, 50), (None,  15150       embedding_23[0][0]               \n",
      "__________________________________________________________________________________________________\n",
      "dropout_23 (Dropout)            (None, 50)           0           rnn_45[0][1]                     \n",
      "                                                                 rnn_46[0][1]                     \n",
      "__________________________________________________________________________________________________\n",
      "concatenate_23 (Concatenate)    (None, 100)          0           dropout_23[0][0]                 \n",
      "                                                                 dropout_23[1][0]                 \n",
      "__________________________________________________________________________________________________\n",
      "dense_23 (Dense)                (None, 27)           2727        concatenate_23[0][0]             \n",
      "==================================================================================================\n",
      "Total params: 34,377\n",
      "Trainable params: 33,027\n",
      "Non-trainable params: 1,350\n",
      "__________________________________________________________________________________________________\n",
      "1000/1000 [==============================] - 1s 859us/step\n",
      "Final Testing Accuracy: [0.8141176176071167, 0.5399999980926513]\n"
     ]
    }
   ],
   "source": [
    "model_version= get_model_version()\n",
    "if USE_PRETRAINED:\n",
    "    model = restore_model()\n",
    "else:\n",
    "    model = tf.keras.Model(inputs=[q_in, c_in], outputs=pred)\n",
    "    model.compile(optimizer='adam',\n",
    "              loss='categorical_crossentropy',\n",
    "              metrics=['accuracy'])\n",
    "    train(model)\n",
    "    save(model)\n",
    "    \n",
    "evaluate_model(model)"
   ]
  },
  {
   "cell_type": "code",
   "execution_count": null,
   "metadata": {
    "collapsed": true
   },
   "outputs": [],
   "source": []
  }
 ],
 "metadata": {
  "kernelspec": {
   "display_name": "Python 3",
   "language": "python",
   "name": "python3"
  },
  "language_info": {
   "codemirror_mode": {
    "name": "ipython",
    "version": 3
   },
   "file_extension": ".py",
   "mimetype": "text/x-python",
   "name": "python",
   "nbconvert_exporter": "python",
   "pygments_lexer": "ipython3",
   "version": "3.6.3"
  }
 },
 "nbformat": 4,
 "nbformat_minor": 2
}
